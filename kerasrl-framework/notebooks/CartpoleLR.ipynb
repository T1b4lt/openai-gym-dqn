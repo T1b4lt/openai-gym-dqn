{
 "cells": [
  {
   "cell_type": "code",
   "execution_count": 1,
   "id": "885d03bb-07ec-444f-8069-39d25170df82",
   "metadata": {},
   "outputs": [],
   "source": [
    "import math\n",
    "import numpy as np\n",
    "import pandas as pd\n",
    "import seaborn as sns\n",
    "import scipy\n",
    "import matplotlib.pyplot as plt\n",
    "\n",
    "from sklearn.decomposition import PCA\n",
    "from sklearn import linear_model\n",
    "from sklearn.metrics import mean_squared_error, r2_score"
   ]
  },
  {
   "cell_type": "code",
   "execution_count": 2,
   "id": "d534712b-62cd-4531-8a96-2acc49ed4ea1",
   "metadata": {},
   "outputs": [],
   "source": [
    "tuples_noattack = pd.read_csv(\"../cartpole_noattack.csv\")"
   ]
  },
  {
   "cell_type": "code",
   "execution_count": 3,
   "id": "fe26eba1-96ae-4856-bdd2-73cb9ed41ed6",
   "metadata": {},
   "outputs": [
    {
     "data": {
      "text/html": [
       "<div>\n",
       "<style scoped>\n",
       "    .dataframe tbody tr th:only-of-type {\n",
       "        vertical-align: middle;\n",
       "    }\n",
       "\n",
       "    .dataframe tbody tr th {\n",
       "        vertical-align: top;\n",
       "    }\n",
       "\n",
       "    .dataframe thead th {\n",
       "        text-align: right;\n",
       "    }\n",
       "</style>\n",
       "<table border=\"1\" class=\"dataframe\">\n",
       "  <thead>\n",
       "    <tr style=\"text-align: right;\">\n",
       "      <th></th>\n",
       "      <th>state_0</th>\n",
       "      <th>state_1</th>\n",
       "      <th>state_2</th>\n",
       "      <th>state_3</th>\n",
       "      <th>action</th>\n",
       "      <th>next_state_0</th>\n",
       "      <th>next_state_1</th>\n",
       "      <th>next_state_2</th>\n",
       "      <th>next_state_3</th>\n",
       "      <th>reward</th>\n",
       "    </tr>\n",
       "  </thead>\n",
       "  <tbody>\n",
       "    <tr>\n",
       "      <th>0</th>\n",
       "      <td>-0.004717</td>\n",
       "      <td>0.009161</td>\n",
       "      <td>-0.032313</td>\n",
       "      <td>-0.016046</td>\n",
       "      <td>0.0</td>\n",
       "      <td>-0.004534</td>\n",
       "      <td>-0.185483</td>\n",
       "      <td>-0.032634</td>\n",
       "      <td>0.266269</td>\n",
       "      <td>1.0</td>\n",
       "    </tr>\n",
       "    <tr>\n",
       "      <th>1</th>\n",
       "      <td>-0.004534</td>\n",
       "      <td>-0.185483</td>\n",
       "      <td>-0.032634</td>\n",
       "      <td>0.266269</td>\n",
       "      <td>0.0</td>\n",
       "      <td>-0.008244</td>\n",
       "      <td>-0.380125</td>\n",
       "      <td>-0.027309</td>\n",
       "      <td>0.548483</td>\n",
       "      <td>1.0</td>\n",
       "    </tr>\n",
       "    <tr>\n",
       "      <th>2</th>\n",
       "      <td>-0.008244</td>\n",
       "      <td>-0.380125</td>\n",
       "      <td>-0.027309</td>\n",
       "      <td>0.548483</td>\n",
       "      <td>0.0</td>\n",
       "      <td>-0.015846</td>\n",
       "      <td>-0.574853</td>\n",
       "      <td>-0.016339</td>\n",
       "      <td>0.832438</td>\n",
       "      <td>1.0</td>\n",
       "    </tr>\n",
       "    <tr>\n",
       "      <th>3</th>\n",
       "      <td>-0.015846</td>\n",
       "      <td>-0.574853</td>\n",
       "      <td>-0.016339</td>\n",
       "      <td>0.832438</td>\n",
       "      <td>0.0</td>\n",
       "      <td>-0.027343</td>\n",
       "      <td>-0.769747</td>\n",
       "      <td>0.000310</td>\n",
       "      <td>1.119938</td>\n",
       "      <td>1.0</td>\n",
       "    </tr>\n",
       "    <tr>\n",
       "      <th>4</th>\n",
       "      <td>-0.027343</td>\n",
       "      <td>-0.769747</td>\n",
       "      <td>0.000310</td>\n",
       "      <td>1.119938</td>\n",
       "      <td>0.0</td>\n",
       "      <td>-0.042738</td>\n",
       "      <td>-0.964873</td>\n",
       "      <td>0.022709</td>\n",
       "      <td>1.412718</td>\n",
       "      <td>1.0</td>\n",
       "    </tr>\n",
       "  </tbody>\n",
       "</table>\n",
       "</div>"
      ],
      "text/plain": [
       "    state_0   state_1   state_2   state_3  action  next_state_0  next_state_1  \\\n",
       "0 -0.004717  0.009161 -0.032313 -0.016046     0.0     -0.004534     -0.185483   \n",
       "1 -0.004534 -0.185483 -0.032634  0.266269     0.0     -0.008244     -0.380125   \n",
       "2 -0.008244 -0.380125 -0.027309  0.548483     0.0     -0.015846     -0.574853   \n",
       "3 -0.015846 -0.574853 -0.016339  0.832438     0.0     -0.027343     -0.769747   \n",
       "4 -0.027343 -0.769747  0.000310  1.119938     0.0     -0.042738     -0.964873   \n",
       "\n",
       "   next_state_2  next_state_3  reward  \n",
       "0     -0.032634      0.266269     1.0  \n",
       "1     -0.027309      0.548483     1.0  \n",
       "2     -0.016339      0.832438     1.0  \n",
       "3      0.000310      1.119938     1.0  \n",
       "4      0.022709      1.412718     1.0  "
      ]
     },
     "execution_count": 3,
     "metadata": {},
     "output_type": "execute_result"
    }
   ],
   "source": [
    "tuples_noattack.head()"
   ]
  },
  {
   "cell_type": "code",
   "execution_count": 4,
   "id": "793c28af-a6d5-40bc-a593-26f77f4319ee",
   "metadata": {},
   "outputs": [],
   "source": [
    "pca_2d = PCA(n_components=2)\n",
    "tuples_2d_noattack = pd.DataFrame(pca_2d.fit_transform(tuples_noattack))"
   ]
  },
  {
   "cell_type": "code",
   "execution_count": 5,
   "id": "13afd125-886f-4829-9b0d-e0d1beac02b8",
   "metadata": {},
   "outputs": [
    {
     "data": {
      "text/html": [
       "<div>\n",
       "<style scoped>\n",
       "    .dataframe tbody tr th:only-of-type {\n",
       "        vertical-align: middle;\n",
       "    }\n",
       "\n",
       "    .dataframe tbody tr th {\n",
       "        vertical-align: top;\n",
       "    }\n",
       "\n",
       "    .dataframe thead th {\n",
       "        text-align: right;\n",
       "    }\n",
       "</style>\n",
       "<table border=\"1\" class=\"dataframe\">\n",
       "  <thead>\n",
       "    <tr style=\"text-align: right;\">\n",
       "      <th></th>\n",
       "      <th>PC1_2d</th>\n",
       "      <th>PC2_2d</th>\n",
       "    </tr>\n",
       "  </thead>\n",
       "  <tbody>\n",
       "    <tr>\n",
       "      <th>0</th>\n",
       "      <td>-0.541375</td>\n",
       "      <td>0.030038</td>\n",
       "    </tr>\n",
       "    <tr>\n",
       "      <th>1</th>\n",
       "      <td>-0.542883</td>\n",
       "      <td>0.470791</td>\n",
       "    </tr>\n",
       "    <tr>\n",
       "      <th>2</th>\n",
       "      <td>-0.544745</td>\n",
       "      <td>0.910969</td>\n",
       "    </tr>\n",
       "    <tr>\n",
       "      <th>3</th>\n",
       "      <td>-0.546954</td>\n",
       "      <td>1.352075</td>\n",
       "    </tr>\n",
       "    <tr>\n",
       "      <th>4</th>\n",
       "      <td>-0.549497</td>\n",
       "      <td>1.795558</td>\n",
       "    </tr>\n",
       "  </tbody>\n",
       "</table>\n",
       "</div>"
      ],
      "text/plain": [
       "     PC1_2d    PC2_2d\n",
       "0 -0.541375  0.030038\n",
       "1 -0.542883  0.470791\n",
       "2 -0.544745  0.910969\n",
       "3 -0.546954  1.352075\n",
       "4 -0.549497  1.795558"
      ]
     },
     "execution_count": 5,
     "metadata": {},
     "output_type": "execute_result"
    }
   ],
   "source": [
    "tuples_2d_noattack.columns = [\"PC1_2d\", \"PC2_2d\"]\n",
    "tuples_2d_noattack.head()"
   ]
  },
  {
   "cell_type": "code",
   "execution_count": 6,
   "id": "09c6b5cd-2c7e-4d77-bbba-05e17c0f07c9",
   "metadata": {},
   "outputs": [
    {
     "data": {
      "text/plain": [
       "[Text(0.5, 1.0, \"Tuplas 'noattack'\")]"
      ]
     },
     "execution_count": 6,
     "metadata": {},
     "output_type": "execute_result"
    },
    {
     "data": {
      "image/png": "[encoded data removed]",
      "text/plain": [
       "<Figure size 432x288 with 1 Axes>"
      ]
     },
     "metadata": {
      "needs_background": "light"
     },
     "output_type": "display_data"
    }
   ],
   "source": [
    "sns.scatterplot(data=tuples_2d_noattack, x='PC1_2d', y='PC2_2d').set(title=\"Tuplas 'noattack'\")"
   ]
  },
  {
   "cell_type": "markdown",
   "id": "340b7125-dd52-4c5b-a144-e7d61c9c5ea5",
   "metadata": {},
   "source": [
    "### Linear Regression"
   ]
  },
  {
   "cell_type": "code",
   "execution_count": 7,
   "id": "8d55ca89-7214-4f53-9713-25c6d0120031",
   "metadata": {},
   "outputs": [],
   "source": [
    "# Create linear regression object\n",
    "regr = linear_model.LinearRegression()\n",
    "\n",
    "X = tuples_2d_noattack.PC1_2d.values.reshape(-1, 1)\n",
    "y = tuples_2d_noattack.PC2_2d.values.reshape(-1, 1)"
   ]
  },
  {
   "cell_type": "code",
   "execution_count": 8,
   "id": "5543a586-0e9a-4d61-bd81-eb3c13d44132",
   "metadata": {},
   "outputs": [
    {
     "data": {
      "text/plain": [
       "LinearRegression()"
      ]
     },
     "execution_count": 8,
     "metadata": {},
     "output_type": "execute_result"
    }
   ],
   "source": [
    "# Train the model using the training sets\n",
    "regr.fit(X, y)"
   ]
  },
  {
   "cell_type": "code",
   "execution_count": 9,
   "id": "2466e6df-960d-4358-ab55-00b5937f4db6",
   "metadata": {},
   "outputs": [],
   "source": [
    "# Make predictions using the testing set\n",
    "y_pred = regr.predict(X)"
   ]
  },
  {
   "cell_type": "code",
   "execution_count": 10,
   "id": "a0b1532d-10eb-40ca-9541-38d8f704834c",
   "metadata": {},
   "outputs": [
    {
     "name": "stdout",
     "output_type": "stream",
     "text": [
      "Coefficients: \n",
      " [[-7.94782859e-17]]\n",
      "Mean squared error: 0.15\n",
      "Coefficient of determination: 0.00\n"
     ]
    }
   ],
   "source": [
    "# The coefficients\n",
    "print(\"Coefficients: \\n\", regr.coef_)\n",
    "# The mean squared error\n",
    "print(\"Mean squared error: %.2f\" % mean_squared_error(y, y_pred))\n",
    "# The coefficient of determination: 1 is perfect prediction\n",
    "print(\"Coefficient of determination: %.2f\" % r2_score(y, y_pred))"
   ]
  },
  {
   "cell_type": "code",
   "execution_count": 11,
   "id": "a6e20d17-a3db-41a1-aa6a-7d29daabd9a4",
   "metadata": {},
   "outputs": [
    {
     "data": {
      "image/png": "[encoded data removed]",
      "text/plain": [
       "<Figure size 432x288 with 1 Axes>"
      ]
     },
     "metadata": {},
     "output_type": "display_data"
    }
   ],
   "source": [
    "# Plot outputs\n",
    "plt.scatter(X, y, color=\"blue\")\n",
    "plt.plot(X, y_pred, color=\"red\", linewidth=1)\n",
    "\n",
    "plt.xticks(())\n",
    "plt.yticks(())\n",
    "\n",
    "plt.show()"
   ]
  },
  {
   "cell_type": "markdown",
   "id": "737a95d1-d148-4903-8fdb-da9d86454e17",
   "metadata": {},
   "source": [
    "### Interpolacion"
   ]
  },
  {
   "cell_type": "code",
   "execution_count": 12,
   "id": "fa69e072-6172-42b1-9664-e5bae783a214",
   "metadata": {},
   "outputs": [],
   "source": [
    "# Create a linear interpolation function based on the original data\n",
    "linear_interpolation_func = scipy.interpolate.interp1d(tuples_2d_noattack.PC1_2d, tuples_2d_noattack.PC2_2d, kind='linear')"
   ]
  },
  {
   "cell_type": "code",
   "execution_count": 13,
   "id": "9664f177-68ea-4a8e-9d4a-ce58da389242",
   "metadata": {},
   "outputs": [
    {
     "name": "stdout",
     "output_type": "stream",
     "text": [
      "MAX PC1_2D: 0.5715833944627616\n",
      "MIN PC1_2D: -0.563479807682888\n"
     ]
    }
   ],
   "source": [
    "pc1_max = np.max(tuples_2d_noattack.PC1_2d.values)\n",
    "pc1_min = np.min(tuples_2d_noattack.PC1_2d.values)\n",
    "print(\"MAX PC1_2D:\", pc1_max)\n",
    "print(\"MIN PC1_2D:\", pc1_min)"
   ]
  },
  {
   "cell_type": "code",
   "execution_count": 14,
   "id": "d1cfe982-d36a-4872-b2c1-9d3c52d11ef1",
   "metadata": {},
   "outputs": [],
   "source": [
    "in_between_scale = np.linspace(pc1_min, pc1_max, 100)"
   ]
  },
  {
   "cell_type": "code",
   "execution_count": 15,
   "id": "0a51e83d-5fa9-4726-bee7-e2801a7f88a6",
   "metadata": {},
   "outputs": [
    {
     "data": {
      "image/png": "[encoded data removed]",
      "text/plain": [
       "<Figure size 864x720 with 1 Axes>"
      ]
     },
     "metadata": {
      "needs_background": "light"
     },
     "output_type": "display_data"
    }
   ],
   "source": [
    "linear_interpolated_y = linear_interpolation_func(in_between_scale)\n",
    "\n",
    "# Plot the result\n",
    "plt.figure(figsize=(12,10))\n",
    "plt.scatter(tuples_2d_noattack.PC1_2d, tuples_2d_noattack.PC2_2d)\n",
    "plt.plot(in_between_scale, linear_interpolated_y, 'red')\n",
    "plt.legend(['Linear Interpolation', 'Original'])\n",
    "plt.xlabel('PC1_2d')\n",
    "plt.ylabel('PC2_2d')\n",
    "plt.show()"
   ]
  },
  {
   "cell_type": "code",
   "execution_count": 16,
   "id": "b479cd7f-5922-4784-8853-ec6f7806c86e",
   "metadata": {},
   "outputs": [
    {
     "name": "stdout",
     "output_type": "stream",
     "text": [
      "Para x = 0.25, y = 0.34196816569472854\n"
     ]
    }
   ],
   "source": [
    "# Ahora me invento un punto (0.25, -0.5)\n",
    "invent_y = linear_interpolation_func(0.25)\n",
    "print(\"Para x = 0.25, y =\", invent_y)"
   ]
  },
  {
   "cell_type": "code",
   "execution_count": 17,
   "id": "420d46c2-32d1-4a4c-be37-88e8b2a2b4f9",
   "metadata": {},
   "outputs": [
    {
     "name": "stdout",
     "output_type": "stream",
     "text": [
      "Pero el punto era (0.25, -0.5)\n",
      "Distancia punto-a-interpolacion 0.8419681656947285\n"
     ]
    }
   ],
   "source": [
    "distancia_punto_interpolacion = abs(-0.5 - invent_y)\n",
    "print(\"Pero el punto era (0.25, -0.5)\")\n",
    "print(\"Distancia punto-a-interpolacion\", distancia_punto_interpolacion)"
   ]
  },
  {
   "cell_type": "code",
   "execution_count": 18,
   "id": "14363e74-ce9d-49e4-905e-70216f98c2f2",
   "metadata": {},
   "outputs": [],
   "source": [
    "distancias_punto_interpolacion = []\n",
    "for punto in tuples_2d_noattack.values:\n",
    "    x = punto[0]\n",
    "    y = punto[1]\n",
    "    pred_y = linear_interpolation_func(x)\n",
    "    distancia = abs(y-pred_y)\n",
    "    distancias_punto_interpolacion.append(distancia)"
   ]
  },
  {
   "cell_type": "code",
   "execution_count": 19,
   "id": "4acef9c8-78ab-4dbe-b7da-d42b405b2bac",
   "metadata": {},
   "outputs": [
    {
     "name": "stdout",
     "output_type": "stream",
     "text": [
      "DISTACIA MAX: 0.0\n",
      "DISTACIA MIN: 0.0\n",
      "DISTACIA AVG: 0.0\n",
      "DISTACIA STD: 0.0\n",
      "DISTACIA VAR: 0.0\n"
     ]
    }
   ],
   "source": [
    "print(\"DISTACIA MAX:\", np.max(distancias_punto_interpolacion))\n",
    "print(\"DISTACIA MIN:\", np.min(distancias_punto_interpolacion))\n",
    "print(\"DISTACIA AVG:\", np.average(distancias_punto_interpolacion))\n",
    "print(\"DISTACIA STD:\", np.std(distancias_punto_interpolacion))\n",
    "print(\"DISTACIA VAR:\", np.var(distancias_punto_interpolacion))"
   ]
  },
  {
   "cell_type": "markdown",
   "id": "57bdc8a6-15e8-40e9-84f5-508ef176391f",
   "metadata": {},
   "source": [
    "### Pruebas interpolacion sobre estados atacados"
   ]
  },
  {
   "cell_type": "code",
   "execution_count": 20,
   "id": "1dae26c9-2b41-4147-895c-c7b0ad38c6d9",
   "metadata": {},
   "outputs": [],
   "source": [
    "tuples_attack = pd.read_csv(\"../cartpole_attack.csv\")"
   ]
  },
  {
   "cell_type": "code",
   "execution_count": 21,
   "id": "5d701b30-4a13-41fa-9159-8a1b0062aa26",
   "metadata": {},
   "outputs": [
    {
     "data": {
      "text/html": [
       "<div>\n",
       "<style scoped>\n",
       "    .dataframe tbody tr th:only-of-type {\n",
       "        vertical-align: middle;\n",
       "    }\n",
       "\n",
       "    .dataframe tbody tr th {\n",
       "        vertical-align: top;\n",
       "    }\n",
       "\n",
       "    .dataframe thead th {\n",
       "        text-align: right;\n",
       "    }\n",
       "</style>\n",
       "<table border=\"1\" class=\"dataframe\">\n",
       "  <thead>\n",
       "    <tr style=\"text-align: right;\">\n",
       "      <th></th>\n",
       "      <th>state_0</th>\n",
       "      <th>state_1</th>\n",
       "      <th>state_2</th>\n",
       "      <th>state_3</th>\n",
       "      <th>action</th>\n",
       "      <th>next_state_0</th>\n",
       "      <th>next_state_1</th>\n",
       "      <th>next_state_2</th>\n",
       "      <th>next_state_3</th>\n",
       "      <th>reward</th>\n",
       "    </tr>\n",
       "  </thead>\n",
       "  <tbody>\n",
       "    <tr>\n",
       "      <th>0</th>\n",
       "      <td>0.082503</td>\n",
       "      <td>0.060246</td>\n",
       "      <td>0.097906</td>\n",
       "      <td>0.040503</td>\n",
       "      <td>0.0</td>\n",
       "      <td>0.032708</td>\n",
       "      <td>-0.185529</td>\n",
       "      <td>0.047716</td>\n",
       "      <td>0.297907</td>\n",
       "      <td>1.0</td>\n",
       "    </tr>\n",
       "    <tr>\n",
       "      <th>1</th>\n",
       "      <td>0.032708</td>\n",
       "      <td>-0.185529</td>\n",
       "      <td>0.047716</td>\n",
       "      <td>0.297907</td>\n",
       "      <td>0.0</td>\n",
       "      <td>0.078997</td>\n",
       "      <td>-0.331298</td>\n",
       "      <td>0.103674</td>\n",
       "      <td>0.655249</td>\n",
       "      <td>1.0</td>\n",
       "    </tr>\n",
       "    <tr>\n",
       "      <th>2</th>\n",
       "      <td>0.078997</td>\n",
       "      <td>-0.331298</td>\n",
       "      <td>0.103674</td>\n",
       "      <td>0.655249</td>\n",
       "      <td>0.0</td>\n",
       "      <td>0.021372</td>\n",
       "      <td>-0.577128</td>\n",
       "      <td>0.065779</td>\n",
       "      <td>0.914344</td>\n",
       "      <td>1.0</td>\n",
       "    </tr>\n",
       "    <tr>\n",
       "      <th>3</th>\n",
       "      <td>0.021372</td>\n",
       "      <td>-0.577128</td>\n",
       "      <td>0.065779</td>\n",
       "      <td>0.914344</td>\n",
       "      <td>0.0</td>\n",
       "      <td>0.009829</td>\n",
       "      <td>-0.773075</td>\n",
       "      <td>0.084066</td>\n",
       "      <td>1.226954</td>\n",
       "      <td>1.0</td>\n",
       "    </tr>\n",
       "    <tr>\n",
       "      <th>4</th>\n",
       "      <td>0.009829</td>\n",
       "      <td>-0.773075</td>\n",
       "      <td>0.084066</td>\n",
       "      <td>1.226954</td>\n",
       "      <td>1.0</td>\n",
       "      <td>0.044367</td>\n",
       "      <td>-0.529130</td>\n",
       "      <td>0.158605</td>\n",
       "      <td>1.011750</td>\n",
       "      <td>1.0</td>\n",
       "    </tr>\n",
       "  </tbody>\n",
       "</table>\n",
       "</div>"
      ],
      "text/plain": [
       "    state_0   state_1   state_2   state_3  action  next_state_0  next_state_1  \\\n",
       "0  0.082503  0.060246  0.097906  0.040503     0.0      0.032708     -0.185529   \n",
       "1  0.032708 -0.185529  0.047716  0.297907     0.0      0.078997     -0.331298   \n",
       "2  0.078997 -0.331298  0.103674  0.655249     0.0      0.021372     -0.577128   \n",
       "3  0.021372 -0.577128  0.065779  0.914344     0.0      0.009829     -0.773075   \n",
       "4  0.009829 -0.773075  0.084066  1.226954     1.0      0.044367     -0.529130   \n",
       "\n",
       "   next_state_2  next_state_3  reward  \n",
       "0      0.047716      0.297907     1.0  \n",
       "1      0.103674      0.655249     1.0  \n",
       "2      0.065779      0.914344     1.0  \n",
       "3      0.084066      1.226954     1.0  \n",
       "4      0.158605      1.011750     1.0  "
      ]
     },
     "execution_count": 21,
     "metadata": {},
     "output_type": "execute_result"
    }
   ],
   "source": [
    "tuples_attack.head()"
   ]
  },
  {
   "cell_type": "code",
   "execution_count": 22,
   "id": "048cba46-384f-4ace-b057-37dd3ae3a13e",
   "metadata": {},
   "outputs": [
    {
     "data": {
      "text/html": [
       "<div>\n",
       "<style scoped>\n",
       "    .dataframe tbody tr th:only-of-type {\n",
       "        vertical-align: middle;\n",
       "    }\n",
       "\n",
       "    .dataframe tbody tr th {\n",
       "        vertical-align: top;\n",
       "    }\n",
       "\n",
       "    .dataframe thead th {\n",
       "        text-align: right;\n",
       "    }\n",
       "</style>\n",
       "<table border=\"1\" class=\"dataframe\">\n",
       "  <thead>\n",
       "    <tr style=\"text-align: right;\">\n",
       "      <th></th>\n",
       "      <th>PC1_2d</th>\n",
       "      <th>PC2_2d</th>\n",
       "    </tr>\n",
       "  </thead>\n",
       "  <tbody>\n",
       "    <tr>\n",
       "      <th>0</th>\n",
       "      <td>-0.544120</td>\n",
       "      <td>0.051290</td>\n",
       "    </tr>\n",
       "    <tr>\n",
       "      <th>1</th>\n",
       "      <td>-0.554317</td>\n",
       "      <td>0.512291</td>\n",
       "    </tr>\n",
       "    <tr>\n",
       "      <th>2</th>\n",
       "      <td>-0.547661</td>\n",
       "      <td>0.973568</td>\n",
       "    </tr>\n",
       "    <tr>\n",
       "      <th>3</th>\n",
       "      <td>-0.553946</td>\n",
       "      <td>1.437547</td>\n",
       "    </tr>\n",
       "    <tr>\n",
       "      <th>4</th>\n",
       "      <td>0.556628</td>\n",
       "      <td>1.457258</td>\n",
       "    </tr>\n",
       "  </tbody>\n",
       "</table>\n",
       "</div>"
      ],
      "text/plain": [
       "     PC1_2d    PC2_2d\n",
       "0 -0.544120  0.051290\n",
       "1 -0.554317  0.512291\n",
       "2 -0.547661  0.973568\n",
       "3 -0.553946  1.437547\n",
       "4  0.556628  1.457258"
      ]
     },
     "execution_count": 22,
     "metadata": {},
     "output_type": "execute_result"
    }
   ],
   "source": [
    "tuples_2d_attack = pd.DataFrame(pca_2d.transform(tuples_attack))\n",
    "tuples_2d_attack.columns = [\"PC1_2d\", \"PC2_2d\"]\n",
    "tuples_2d_attack.head()"
   ]
  },
  {
   "cell_type": "code",
   "execution_count": 23,
   "id": "d7b702f3-feb3-4f95-9919-b0482d845a5f",
   "metadata": {},
   "outputs": [
    {
     "data": {
      "text/plain": [
       "[Text(0.5, 1.0, \"Tuplas 'attacked'\")]"
      ]
     },
     "execution_count": 23,
     "metadata": {},
     "output_type": "execute_result"
    },
    {
     "data": {
      "image/png": "[encoded data removed]",
      "text/plain": [
       "<Figure size 432x288 with 1 Axes>"
      ]
     },
     "metadata": {
      "needs_background": "light"
     },
     "output_type": "display_data"
    }
   ],
   "source": [
    "sns.scatterplot(data=tuples_2d_attack, x='PC1_2d', y='PC2_2d').set(title=\"Tuplas 'attacked'\")"
   ]
  },
  {
   "cell_type": "code",
   "execution_count": 24,
   "id": "6e1dd099-b642-4198-8399-cf7ac638611f",
   "metadata": {},
   "outputs": [],
   "source": [
    "estados_atacados = []\n",
    "for punto in tuples_2d_attack.values:\n",
    "    distancia = math.inf\n",
    "    anomalo = False\n",
    "    x = punto[0]\n",
    "    y = punto[1]\n",
    "    \n",
    "    try:\n",
    "        pred_y = linear_interpolation_func(x)\n",
    "        distancia = abs(y-pred_y)\n",
    "        if distancia > 0.01:\n",
    "            anomalo = True\n",
    "    except ValueError:\n",
    "        anomalo = True\n",
    "    \n",
    "    estados_atacados.append([x,y,distancia,anomalo])\n",
    "estados_atacados_df = pd.DataFrame(data=estados_atacados, columns=[\"PC1_2d\", \"PC2_2d\", \"distancia\", \"anomalo\"])"
   ]
  },
  {
   "cell_type": "code",
   "execution_count": 25,
   "id": "f5c6249a-74af-4b80-b68e-1bb7fed5e057",
   "metadata": {},
   "outputs": [
    {
     "data": {
      "text/html": [
       "<div>\n",
       "<style scoped>\n",
       "    .dataframe tbody tr th:only-of-type {\n",
       "        vertical-align: middle;\n",
       "    }\n",
       "\n",
       "    .dataframe tbody tr th {\n",
       "        vertical-align: top;\n",
       "    }\n",
       "\n",
       "    .dataframe thead th {\n",
       "        text-align: right;\n",
       "    }\n",
       "</style>\n",
       "<table border=\"1\" class=\"dataframe\">\n",
       "  <thead>\n",
       "    <tr style=\"text-align: right;\">\n",
       "      <th></th>\n",
       "      <th>PC1_2d</th>\n",
       "      <th>PC2_2d</th>\n",
       "      <th>distancia</th>\n",
       "      <th>anomalo</th>\n",
       "    </tr>\n",
       "  </thead>\n",
       "  <tbody>\n",
       "    <tr>\n",
       "      <th>0</th>\n",
       "      <td>-0.544120</td>\n",
       "      <td>0.051290</td>\n",
       "      <td>0.851131</td>\n",
       "      <td>True</td>\n",
       "    </tr>\n",
       "    <tr>\n",
       "      <th>1</th>\n",
       "      <td>-0.554317</td>\n",
       "      <td>0.512291</td>\n",
       "      <td>0.703460</td>\n",
       "      <td>True</td>\n",
       "    </tr>\n",
       "    <tr>\n",
       "      <th>2</th>\n",
       "      <td>-0.547661</td>\n",
       "      <td>0.973568</td>\n",
       "      <td>2.104663</td>\n",
       "      <td>True</td>\n",
       "    </tr>\n",
       "    <tr>\n",
       "      <th>3</th>\n",
       "      <td>-0.553946</td>\n",
       "      <td>1.437547</td>\n",
       "      <td>1.526250</td>\n",
       "      <td>True</td>\n",
       "    </tr>\n",
       "    <tr>\n",
       "      <th>4</th>\n",
       "      <td>0.556628</td>\n",
       "      <td>1.457258</td>\n",
       "      <td>1.206472</td>\n",
       "      <td>True</td>\n",
       "    </tr>\n",
       "  </tbody>\n",
       "</table>\n",
       "</div>"
      ],
      "text/plain": [
       "     PC1_2d    PC2_2d  distancia  anomalo\n",
       "0 -0.544120  0.051290   0.851131     True\n",
       "1 -0.554317  0.512291   0.703460     True\n",
       "2 -0.547661  0.973568   2.104663     True\n",
       "3 -0.553946  1.437547   1.526250     True\n",
       "4  0.556628  1.457258   1.206472     True"
      ]
     },
     "execution_count": 25,
     "metadata": {},
     "output_type": "execute_result"
    }
   ],
   "source": [
    "estados_atacados_df.head()"
   ]
  },
  {
   "cell_type": "code",
   "execution_count": 26,
   "id": "cd4dce13-1b84-40e0-b76b-c86181782ce7",
   "metadata": {},
   "outputs": [
    {
     "data": {
      "text/plain": [
       "True     256251\n",
       "False      4318\n",
       "Name: anomalo, dtype: int64"
      ]
     },
     "execution_count": 26,
     "metadata": {},
     "output_type": "execute_result"
    }
   ],
   "source": [
    "estados_atacados_df['anomalo'].value_counts()"
   ]
  },
  {
   "cell_type": "code",
   "execution_count": 27,
   "id": "681f4158-e1ce-400b-8dc8-98c6e5615197",
   "metadata": {},
   "outputs": [
    {
     "data": {
      "text/plain": [
       "[Text(0.5, 1.0, \"Estados anomalos de 'cartpole_attack'\")]"
      ]
     },
     "execution_count": 27,
     "metadata": {},
     "output_type": "execute_result"
    },
    {
     "data": {
      "image/png": "[encoded data removed]",
      "text/plain": [
       "<Figure size 432x288 with 1 Axes>"
      ]
     },
     "metadata": {
      "needs_background": "light"
     },
     "output_type": "display_data"
    }
   ],
   "source": [
    "sns.scatterplot(data=estados_atacados_df, x='PC1_2d', y='PC2_2d', hue='anomalo').set(title=\"Estados anomalos de 'cartpole_attack'\")"
   ]
  },
  {
   "cell_type": "code",
   "execution_count": 28,
   "id": "fccb5c6d-4093-4581-80df-6ccfb3b4ccfe",
   "metadata": {},
   "outputs": [
    {
     "name": "stdout",
     "output_type": "stream",
     "text": [
      "PC1_2d LEFT MEAN: -0.5583553107536166\n",
      "PC1_2d RIGHT MEAN: 0.5583553107536167\n",
      "PC2_2d MAX 2.3468945171077564\n",
      "PC2_2d MIN -2.21759685928121\n"
     ]
    }
   ],
   "source": [
    "pc1_left_mean = tuples_2d_noattack[tuples_2d_noattack['PC1_2d']<0].PC1_2d.mean()\n",
    "pc1_right_mean = tuples_2d_noattack[tuples_2d_noattack['PC1_2d']>0].PC1_2d.mean()\n",
    "pc2_max = np.max(tuples_2d_noattack.PC2_2d.values)\n",
    "pc2_min = np.min(tuples_2d_noattack.PC2_2d.values)\n",
    "print(\"PC1_2d LEFT MEAN:\", pc1_left_mean)\n",
    "print(\"PC1_2d RIGHT MEAN:\", pc1_right_mean)\n",
    "print(\"PC2_2d MAX\", pc2_max)\n",
    "print(\"PC2_2d MIN\", pc2_min)\n",
    "\n",
    "conf_factor = 0.01\n",
    "estados_atacados_2 = []\n",
    "for punto in tuples_2d_attack.values:\n",
    "    anomalo = True\n",
    "    x = punto[0]\n",
    "    y = punto[1]\n",
    "    \n",
    "    if (1+conf_factor)*pc1_left_mean <= x <= pc1_left_mean*(1-conf_factor):\n",
    "        anomalo = False\n",
    "    if (1-conf_factor)*pc1_right_mean <= x <= pc1_right_mean*(1+conf_factor):\n",
    "        anomalo = False\n",
    "        \n",
    "    if y > pc2_max or y < pc2_min:\n",
    "        anomalo = True\n",
    "    \n",
    "    estados_atacados_2.append([x,y,anomalo])\n",
    "estados_atacados_df_2 = pd.DataFrame(data=estados_atacados_2, columns=[\"PC1_2d\", \"PC2_2d\", \"anomalo\"])"
   ]
  },
  {
   "cell_type": "code",
   "execution_count": 29,
   "id": "cd47b7f9-8f08-459f-ba8c-68e997900a4e",
   "metadata": {},
   "outputs": [
    {
     "data": {
      "text/plain": [
       "False    177276\n",
       "True      83293\n",
       "Name: anomalo, dtype: int64"
      ]
     },
     "execution_count": 29,
     "metadata": {},
     "output_type": "execute_result"
    }
   ],
   "source": [
    "estados_atacados_df_2['anomalo'].value_counts()"
   ]
  },
  {
   "cell_type": "code",
   "execution_count": 30,
   "id": "a1ba6a19-38fe-410f-a972-6d6effb5957d",
   "metadata": {},
   "outputs": [
    {
     "data": {
      "text/plain": [
       "[Text(0.5, 1.0, \"Estados anomalos de 'cartpole_attack'\")]"
      ]
     },
     "execution_count": 30,
     "metadata": {},
     "output_type": "execute_result"
    },
    {
     "data": {
      "image/png": "[encoded data removed]",
      "text/plain": [
       "<Figure size 432x288 with 1 Axes>"
      ]
     },
     "metadata": {
      "needs_background": "light"
     },
     "output_type": "display_data"
    }
   ],
   "source": [
    "sns.scatterplot(data=estados_atacados_df_2, x='PC1_2d', y='PC2_2d', hue='anomalo').set(title=\"Estados anomalos de 'cartpole_attack'\")"
   ]
  },
  {
   "cell_type": "code",
   "execution_count": null,
   "id": "1a84dc8b-e2ad-4b29-88b1-9c88ea206087",
   "metadata": {},
   "outputs": [],
   "source": []
  }
 ],
 "metadata": {
  "kernelspec": {
   "display_name": "Python 3 (ipykernel)",
   "language": "python",
   "name": "python3"
  },
  "language_info": {
   "codemirror_mode": {
    "name": "ipython",
    "version": 3
   },
   "file_extension": ".py",
   "mimetype": "text/x-python",
   "name": "python",
   "nbconvert_exporter": "python",
   "pygments_lexer": "ipython3",
   "version": "3.8.10"
  }
 },
 "nbformat": 4,
 "nbformat_minor": 5
}
