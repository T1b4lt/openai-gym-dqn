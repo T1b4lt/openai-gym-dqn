{
 "cells": [
  {
   "cell_type": "code",
   "execution_count": 1,
   "id": "7c17f5df-21e5-44e4-b87d-8ede19c8cdd8",
   "metadata": {},
   "outputs": [],
   "source": [
    "import gym\n",
    "from gym.wrappers import Monitor\n",
    "from collections import deque\n",
    "import tensorflow as tf\n",
    "import numpy as np\n",
    "import random\n",
    "import math\n",
    "import time\n",
    "import glob\n",
    "import io\n",
    "import base64\n",
    "import matplotlib.pyplot as plt \n",
    "from IPython.display import HTML\n",
    "from IPython import display as ipythondisplay"
   ]
  },
  {
   "cell_type": "code",
   "execution_count": 2,
   "id": "e9868c30-e9cc-4e20-b78d-ed5143075520",
   "metadata": {},
   "outputs": [
    {
     "name": "stdout",
     "output_type": "stream",
     "text": [
      "Number of state features: 4\n",
      "Number of possible actions: 2\n"
     ]
    }
   ],
   "source": [
    "# TRAINING\n",
    "N_EPISODES = 1000\n",
    "\n",
    "# AGENT HYPERPARAMETERS\n",
    "EXPLORATION_RATIO = 1.0\n",
    "LEARNING_RATE = 0.2\n",
    "DISCOUNT_FACTOR = 0.99\n",
    "E_DECAY_LIMIT = 0.05\n",
    "E_DECAY_RATE = 0.001\n",
    "BATCH_SIZE = 32\n",
    "MEM_BUFFER = 100000\n",
    "FRAMES_2_TARGET = 2000\n",
    "\n",
    "# MISC\n",
    "REPORT_FILE = False\n",
    "STEPS_REPORT = 50\n",
    "\n",
    "config = {\n",
    "    \"n_episodes\": N_EPISODES,\n",
    "    \"exploration_ratio\": EXPLORATION_RATIO,\n",
    "    \"learning_rate\": LEARNING_RATE,\n",
    "    \"discount_factor\": DISCOUNT_FACTOR,\n",
    "    \"e_decay_limit\": E_DECAY_LIMIT,\n",
    "    \"e_decay_rate\": E_DECAY_RATE,\n",
    "    \"report_file\": REPORT_FILE\n",
    "}\n",
    "\n",
    "env = gym.make('CartPole-v1')\n",
    "NUM_FEATURES = env.observation_space.shape[0]\n",
    "NUM_ACTIONS = env.action_space.n\n",
    "print('Number of state features: {}'.format(NUM_FEATURES))\n",
    "print('Number of possible actions: {}'.format(NUM_ACTIONS))"
   ]
  },
  {
   "cell_type": "code",
   "execution_count": 3,
   "id": "dd9f1a56-cfcd-4a4d-b158-706569c889d6",
   "metadata": {},
   "outputs": [
    {
     "name": "stderr",
     "output_type": "stream",
     "text": [
      "2022-01-21 00:56:08.049955: I tensorflow/core/platform/cpu_feature_guard.cc:151] This TensorFlow binary is optimized with oneAPI Deep Neural Network Library (oneDNN) to use the following CPU instructions in performance-critical operations:  AVX2 FMA\n",
      "To enable them in other operations, rebuild TensorFlow with the appropriate compiler flags.\n"
     ]
    }
   ],
   "source": [
    "class DQN(tf.keras.Model):\n",
    "    def __init__(self):\n",
    "        super(DQN, self).__init__()\n",
    "        self.dense1 = tf.keras.layers.Dense(32, activation=\"relu\")\n",
    "        self.dense2 = tf.keras.layers.Dense(32, activation=\"relu\")\n",
    "        self.dense3 = tf.keras.layers.Dense(NUM_ACTIONS, dtype=tf.float32) # No activation\n",
    "    \n",
    "    def call(self, x):\n",
    "        x = self.dense1(x)\n",
    "        x = self.dense2(x)\n",
    "        return self.dense3(x)\n",
    "\n",
    "main_nn = DQN()\n",
    "target_nn = DQN()\n",
    "\n",
    "optimizer = tf.keras.optimizers.Adam(1e-4)\n",
    "mse = tf.keras.losses.MeanSquaredError()"
   ]
  },
  {
   "cell_type": "code",
   "execution_count": 4,
   "id": "b8929dc6-8257-4506-889d-52c7971ca43e",
   "metadata": {},
   "outputs": [],
   "source": [
    "class ReplayBuffer(object):\n",
    "    def __init__(self, size):\n",
    "        self.buffer = deque(maxlen=size)\n",
    "\n",
    "    def add(self, state, action, reward, next_state, done):\n",
    "        self.buffer.append((state, action, reward, next_state, done))\n",
    "\n",
    "    def __len__(self):\n",
    "        return len(self.buffer)\n",
    "\n",
    "    def sample(self, num_samples):\n",
    "        states, actions, rewards, next_states, dones = [], [], [], [], []\n",
    "        idx = np.random.choice(len(self.buffer), num_samples)\n",
    "        for i in idx:\n",
    "            elem = self.buffer[i]\n",
    "            state, action, reward, next_state, done = elem\n",
    "            states.append(np.array(state, copy=False))\n",
    "            actions.append(np.array(action, copy=False))\n",
    "            rewards.append(reward)\n",
    "            next_states.append(np.array(next_state, copy=False))\n",
    "            dones.append(done)\n",
    "        states = np.array(states)\n",
    "        actions = np.array(actions)\n",
    "        rewards = np.array(rewards, dtype=np.float32)\n",
    "        next_states = np.array(next_states)\n",
    "        dones = np.array(dones, dtype=np.float32)\n",
    "        return states, actions, rewards, next_states, dones"
   ]
  },
  {
   "cell_type": "code",
   "execution_count": 5,
   "id": "fcfdae1a-66bf-4483-b3f0-e1c000546c50",
   "metadata": {},
   "outputs": [],
   "source": [
    "def select_epsilon_greedy_action(state, epsilon):\n",
    "    \"\"\"Take random action with probability epsilon, else take best action.\"\"\"\n",
    "    result = tf.random.uniform((1,))\n",
    "    if result < epsilon:\n",
    "        return env.action_space.sample() # Random action (left or right).\n",
    "    else:\n",
    "        return tf.argmax(main_nn(state)[0]).numpy() # Greedy action for state."
   ]
  },
  {
   "cell_type": "code",
   "execution_count": 6,
   "id": "759143ad-5158-4e80-aa15-975173ddda46",
   "metadata": {},
   "outputs": [],
   "source": [
    "@tf.function\n",
    "def train_step(states, actions, rewards, next_states, dones):\n",
    "    \"\"\"Perform a training iteration on a batch of data sampled from the experience replay buffer.\"\"\"\n",
    "    # Calculate targets.\n",
    "    next_qs = target_nn(next_states)\n",
    "    max_next_qs = tf.reduce_max(next_qs, axis=-1)\n",
    "    target = rewards + (1. - dones) * DISCOUNT_FACTOR * max_next_qs\n",
    "    with tf.GradientTape() as tape:\n",
    "        qs = main_nn(states)\n",
    "        action_masks = tf.one_hot(actions, NUM_ACTIONS)\n",
    "        masked_qs = tf.reduce_sum(action_masks * qs, axis=-1)\n",
    "        loss = mse(target, masked_qs)\n",
    "    grads = tape.gradient(loss, main_nn.trainable_variables)\n",
    "    optimizer.apply_gradients(zip(grads, main_nn.trainable_variables))\n",
    "    return loss"
   ]
  },
  {
   "cell_type": "code",
   "execution_count": 7,
   "id": "be165691-19a7-4f54-a440-3469aa2bc2b9",
   "metadata": {},
   "outputs": [
    {
     "name": "stdout",
     "output_type": "stream",
     "text": [
      "Episode 0/1000. Epsilon: 0.999. Reward in last 100 episodes: 38.000\n",
      "Episode 50/1000. Epsilon: 0.949. Reward in last 100 episodes: 23.804\n",
      "Episode 100/1000. Epsilon: 0.899. Reward in last 100 episodes: 22.520\n",
      "Episode 150/1000. Epsilon: 0.849. Reward in last 100 episodes: 19.830\n",
      "Episode 200/1000. Epsilon: 0.799. Reward in last 100 episodes: 17.540\n",
      "Episode 250/1000. Epsilon: 0.749. Reward in last 100 episodes: 16.930\n",
      "Episode 300/1000. Epsilon: 0.699. Reward in last 100 episodes: 16.390\n",
      "Episode 350/1000. Epsilon: 0.649. Reward in last 100 episodes: 20.130\n",
      "Episode 400/1000. Epsilon: 0.599. Reward in last 100 episodes: 29.120\n",
      "Episode 450/1000. Epsilon: 0.549. Reward in last 100 episodes: 49.300\n",
      "Episode 500/1000. Epsilon: 0.499. Reward in last 100 episodes: 85.850\n",
      "Episode 550/1000. Epsilon: 0.449. Reward in last 100 episodes: 133.050\n",
      "Episode 600/1000. Epsilon: 0.399. Reward in last 100 episodes: 168.130\n",
      "Episode 650/1000. Epsilon: 0.349. Reward in last 100 episodes: 196.430\n",
      "Episode 700/1000. Epsilon: 0.299. Reward in last 100 episodes: 243.100\n",
      "Episode 750/1000. Epsilon: 0.249. Reward in last 100 episodes: 267.800\n",
      "Episode 800/1000. Epsilon: 0.199. Reward in last 100 episodes: 278.530\n",
      "Episode 850/1000. Epsilon: 0.149. Reward in last 100 episodes: 282.920\n",
      "Episode 900/1000. Epsilon: 0.099. Reward in last 100 episodes: 273.750\n",
      "Episode 950/1000. Epsilon: 0.050. Reward in last 100 episodes: 279.420\n",
      "Episode 1000/1000. Epsilon: 0.050. Reward in last 100 episodes: 277.150\n"
     ]
    }
   ],
   "source": [
    "# Traning\n",
    "buffer = ReplayBuffer(MEM_BUFFER)\n",
    "cur_frame = 0\n",
    "\n",
    "# Start training. Play game once and then train with a batch.\n",
    "last_100_ep_rewards = []\n",
    "reward_hist = []\n",
    "for episode in range(N_EPISODES+1):\n",
    "    state = env.reset()\n",
    "    ep_reward, done = 0, False\n",
    "    while not done:\n",
    "        state_in = tf.expand_dims(state, axis=0)\n",
    "        action = select_epsilon_greedy_action(state_in, EXPLORATION_RATIO)\n",
    "        next_state, reward, done, info = env.step(action)\n",
    "        ep_reward += reward\n",
    "        # Save to experience replay.\n",
    "        buffer.add(state, action, reward, next_state, done)\n",
    "        state = next_state\n",
    "        cur_frame += 1\n",
    "        # Copy main_nn weights to target_nn.\n",
    "        if cur_frame % FRAMES_2_TARGET == 0:\n",
    "            target_nn.set_weights(main_nn.get_weights())\n",
    "\n",
    "        # Train neural network.\n",
    "        if len(buffer) >= BATCH_SIZE:\n",
    "            states, actions, rewards, next_states, dones = buffer.sample(BATCH_SIZE)\n",
    "            loss = train_step(states, actions, rewards, next_states, dones)\n",
    "  \n",
    "    if E_DECAY_LIMIT < EXPLORATION_RATIO:\n",
    "        EXPLORATION_RATIO -= E_DECAY_RATE\n",
    "\n",
    "    if len(last_100_ep_rewards) == 100:\n",
    "        last_100_ep_rewards = last_100_ep_rewards[1:]\n",
    "    last_100_ep_rewards.append(ep_reward)\n",
    "    reward_hist.append(ep_reward)\n",
    "\n",
    "    \n",
    "    if episode % STEPS_REPORT == 0:\n",
    "        print(f'Episode {episode}/{N_EPISODES}. Epsilon: {EXPLORATION_RATIO:.3f}. 'f'Reward in last 100 episodes: {np.mean(last_100_ep_rewards):.3f}')\n",
    "env.close()"
   ]
  },
  {
   "cell_type": "code",
   "execution_count": 8,
   "id": "7d412982-2baf-4703-87a1-d4ffd5ec46f1",
   "metadata": {},
   "outputs": [
    {
     "data": {
      "image/png": "[encoded data removed]",
      "text/plain": [
       "<Figure size 432x288 with 1 Axes>"
      ]
     },
     "metadata": {
      "needs_background": "light"
     },
     "output_type": "display_data"
    }
   ],
   "source": [
    "plt.plot(reward_hist)\n",
    "plt.xlabel(\"Episode\")\n",
    "plt.ylabel(\"Reward\")\n",
    "plt.show()"
   ]
  },
  {
   "cell_type": "code",
   "execution_count": 9,
   "id": "a598f0c2-3a51-4727-a5a4-287cee25bc97",
   "metadata": {},
   "outputs": [],
   "source": [
    "def show_video():\n",
    "    mp4list = glob.glob('resources/videos/cartpoledqn/*.mp4')\n",
    "    if len(mp4list) > 0:\n",
    "        mp4 = mp4list[0]\n",
    "        video = io.open(mp4, 'r+b').read()\n",
    "        encoded = base64.b64encode(video)\n",
    "        ipythondisplay.display(HTML(data='''<video alt=\"test\" autoplay \n",
    "                loop controls style=\"height: 400px;\">\n",
    "                <source src=\"data:video/mp4;base64,{0}\" type=\"video/mp4\" />\n",
    "             </video>'''.format(encoded.decode('ascii'))))\n",
    "    else: \n",
    "        print(\"Video not found\")\n",
    "    \n",
    "\n",
    "def wrap_env(env):\n",
    "    env = Monitor(env, './resources/videos/cartpoledqn', force=True)\n",
    "    return env"
   ]
  },
  {
   "cell_type": "code",
   "execution_count": 13,
   "id": "a13319eb-d79c-4ae0-b992-7b4c8483d4dd",
   "metadata": {},
   "outputs": [
    {
     "name": "stdout",
     "output_type": "stream",
     "text": [
      "Episode reward was 356.0\n"
     ]
    },
    {
     "data": {
      "text/html": [
       "<video alt=\"test\" autoplay \n",
       "                loop controls style=\"height: 400px;\">\n",
       "                <source src=\"data:video/mp4;base64,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\" type=\"video/mp4\" />\n",
       "             </video>"
      ],
      "text/plain": [
       "<IPython.core.display.HTML object>"
      ]
     },
     "metadata": {},
     "output_type": "display_data"
    }
   ],
   "source": [
    "env = wrap_env(gym.make('CartPole-v1'))\n",
    "state = env.reset()\n",
    "done = False\n",
    "ep_rew = 0\n",
    "while not done:\n",
    "    env.render()\n",
    "    state = tf.expand_dims(state, axis=0)\n",
    "    action = select_epsilon_greedy_action(state, epsilon=0)\n",
    "    state, reward, done, info = env.step(action)\n",
    "    ep_rew += reward\n",
    "print('Episode reward was {}'.format(ep_rew))\n",
    "env.close()\n",
    "show_video()"
   ]
  },
  {
   "cell_type": "code",
   "execution_count": null,
   "id": "799e2cc4-2282-42bc-9f50-e261845e09c1",
   "metadata": {},
   "outputs": [],
   "source": []
  }
 ],
 "metadata": {
  "kernelspec": {
   "display_name": "Python 3 (ipykernel)",
   "language": "python",
   "name": "python3"
  },
  "language_info": {
   "codemirror_mode": {
    "name": "ipython",
    "version": 3
   },
   "file_extension": ".py",
   "mimetype": "text/x-python",
   "name": "python",
   "nbconvert_exporter": "python",
   "pygments_lexer": "ipython3",
   "version": "3.8.0"
  }
 },
 "nbformat": 4,
 "nbformat_minor": 5
}
