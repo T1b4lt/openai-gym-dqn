{
 "cells": [
  {
   "cell_type": "code",
   "execution_count": 6,
   "id": "7c17f5df-21e5-44e4-b87d-8ede19c8cdd8",
   "metadata": {},
   "outputs": [],
   "source": [
    "import gym\n",
    "from gym.wrappers import Monitor\n",
    "from collections import deque\n",
    "import tensorflow as tf\n",
    "import numpy as np\n",
    "import random\n",
    "import math\n",
    "import time\n",
    "import glob\n",
    "import io\n",
    "import base64\n",
    "from IPython.display import HTML\n",
    "from IPython import display as ipythondisplay"
   ]
  },
  {
   "cell_type": "code",
   "execution_count": 7,
   "id": "e9868c30-e9cc-4e20-b78d-ed5143075520",
   "metadata": {},
   "outputs": [
    {
     "name": "stdout",
     "output_type": "stream",
     "text": [
      "Number of state features: 4\n",
      "Number of possible actions: 2\n"
     ]
    }
   ],
   "source": [
    "# TRAINING\n",
    "N_EPISODES = 5000\n",
    "N_STEPS = 1000\n",
    "\n",
    "# AGENT HYPERPARAMETERS\n",
    "EXPLORATION_RATIO = 1.0\n",
    "LEARNING_RATE = 0.2\n",
    "DISCOUNT_FACTOR = 0.9\n",
    "E_DECAY_LIMIT = 0.05\n",
    "E_DECAY_RATE = 0.001\n",
    "\n",
    "# CONTINOUS FEATURES BINS\n",
    "BINS_1 = 10\n",
    "BINS_2 = 10\n",
    "BINS_3 = 10\n",
    "BINS_4 = 10\n",
    "\n",
    "# MISC\n",
    "RENDER = False\n",
    "REPORT_FILE = False\n",
    "STEPS_REPORT = 100\n",
    "\n",
    "config = {\n",
    "    \"n_episodes\": N_EPISODES,\n",
    "    \"n_steps\": N_STEPS,\n",
    "    \"exploration_ratio\": EXPLORATION_RATIO,\n",
    "    \"learning_rate\": LEARNING_RATE,\n",
    "    \"discount_factor\": DISCOUNT_FACTOR,\n",
    "    \"e_decay_limit\": E_DECAY_LIMIT,\n",
    "    \"e_decay_rate\": E_DECAY_RATE,\n",
    "    \"bin_1\": BINS_1,\n",
    "    \"bin_2\": BINS_2,\n",
    "    \"bin_3\": BINS_3,\n",
    "    \"bin_4\": BINS_4,\n",
    "    \"render\": RENDER,\n",
    "    \"report_file\": REPORT_FILE\n",
    "}\n",
    "\n",
    "env = gym.make('CartPole-v1')\n",
    "NUM_FEATURES = env.observation_space.shape[0]\n",
    "NUM_ACTIONS = env.action_space.n\n",
    "print('Number of state features: {}'.format(NUM_FEATURES))\n",
    "print('Number of possible actions: {}'.format(NUM_ACTIONS))"
   ]
  },
  {
   "cell_type": "code",
   "execution_count": 8,
   "id": "dd9f1a56-cfcd-4a4d-b158-706569c889d6",
   "metadata": {},
   "outputs": [],
   "source": [
    "class DQN(tf.keras.Model):\n",
    "  def __init__(self):\n",
    "    super(DQN, self).__init__()\n",
    "    self.dense1 = tf.keras.layers.Dense(32, activation=\"relu\")\n",
    "    self.dense2 = tf.keras.layers.Dense(32, activation=\"relu\")\n",
    "    self.dense3 = tf.keras.layers.Dense(NUM_ACTIONS, dtype=tf.float32) # No activation\n",
    "    \n",
    "  def call(self, x):\n",
    "    x = self.dense1(x)\n",
    "    x = self.dense2(x)\n",
    "    return self.dense3(x)\n",
    "\n",
    "main_nn = DQN()\n",
    "target_nn = DQN()\n",
    "\n",
    "optimizer = tf.keras.optimizers.Adam(1e-4)\n",
    "mse = tf.keras.losses.MeanSquaredError()"
   ]
  },
  {
   "cell_type": "code",
   "execution_count": 9,
   "id": "b8929dc6-8257-4506-889d-52c7971ca43e",
   "metadata": {},
   "outputs": [],
   "source": [
    "class ReplayBuffer(object):\n",
    "  def __init__(self, size):\n",
    "    self.buffer = deque(maxlen=size)\n",
    "\n",
    "  def add(self, state, action, reward, next_state, done):\n",
    "    self.buffer.append((state, action, reward, next_state, done))\n",
    "\n",
    "  def __len__(self):\n",
    "    return len(self.buffer)\n",
    "\n",
    "  def sample(self, num_samples):\n",
    "    states, actions, rewards, next_states, dones = [], [], [], [], []\n",
    "    idx = np.random.choice(len(self.buffer), num_samples)\n",
    "    for i in idx:\n",
    "      elem = self.buffer[i]\n",
    "      state, action, reward, next_state, done = elem\n",
    "      states.append(np.array(state, copy=False))\n",
    "      actions.append(np.array(action, copy=False))\n",
    "      rewards.append(reward)\n",
    "      next_states.append(np.array(next_state, copy=False))\n",
    "      dones.append(done)\n",
    "    states = np.array(states)\n",
    "    actions = np.array(actions)\n",
    "    rewards = np.array(rewards, dtype=np.float32)\n",
    "    next_states = np.array(next_states)\n",
    "    dones = np.array(dones, dtype=np.float32)\n",
    "    return states, actions, rewards, next_states, dones"
   ]
  },
  {
   "cell_type": "code",
   "execution_count": 10,
   "id": "fcfdae1a-66bf-4483-b3f0-e1c000546c50",
   "metadata": {},
   "outputs": [],
   "source": [
    "def select_epsilon_greedy_action(state, epsilon):\n",
    "  \"\"\"Take random action with probability epsilon, else take best action.\"\"\"\n",
    "  result = tf.random.uniform((1,))\n",
    "  if result < epsilon:\n",
    "    return env.action_space.sample() # Random action (left or right).\n",
    "  else:\n",
    "    return tf.argmax(main_nn(state)[0]).numpy() # Greedy action for state."
   ]
  },
  {
   "cell_type": "code",
   "execution_count": 13,
   "id": "759143ad-5158-4e80-aa15-975173ddda46",
   "metadata": {},
   "outputs": [],
   "source": [
    "@tf.function\n",
    "def train_step(states, actions, rewards, next_states, dones):\n",
    "  \"\"\"Perform a training iteration on a batch of data sampled from the experience\n",
    "  replay buffer.\"\"\"\n",
    "  # Calculate targets.\n",
    "  next_qs = target_nn(next_states)\n",
    "  max_next_qs = tf.reduce_max(next_qs, axis=-1)\n",
    "  target = rewards + (1. - dones) * discount * max_next_qs\n",
    "  with tf.GradientTape() as tape:\n",
    "    qs = main_nn(states)\n",
    "    action_masks = tf.one_hot(actions, NUM_ACTIONS)\n",
    "    masked_qs = tf.reduce_sum(action_masks * qs, axis=-1)\n",
    "    loss = mse(target, masked_qs)\n",
    "  grads = tape.gradient(loss, main_nn.trainable_variables)\n",
    "  optimizer.apply_gradients(zip(grads, main_nn.trainable_variables))\n",
    "  return loss"
   ]
  },
  {
   "cell_type": "code",
   "execution_count": 14,
   "id": "be165691-19a7-4f54-a440-3469aa2bc2b9",
   "metadata": {},
   "outputs": [
    {
     "name": "stdout",
     "output_type": "stream",
     "text": [
      "Episode 0/1000. Epsilon: 0.999. Reward in last 100 episodes: 46.000\n",
      "Episode 50/1000. Epsilon: 0.949. Reward in last 100 episodes: 22.235\n",
      "Episode 100/1000. Epsilon: 0.899. Reward in last 100 episodes: 20.630\n",
      "Episode 150/1000. Epsilon: 0.849. Reward in last 100 episodes: 19.400\n",
      "Episode 200/1000. Epsilon: 0.799. Reward in last 100 episodes: 17.850\n",
      "Episode 250/1000. Epsilon: 0.749. Reward in last 100 episodes: 16.620\n",
      "Episode 300/1000. Epsilon: 0.699. Reward in last 100 episodes: 16.260\n",
      "Episode 350/1000. Epsilon: 0.649. Reward in last 100 episodes: 15.780\n",
      "Episode 400/1000. Epsilon: 0.599. Reward in last 100 episodes: 16.540\n",
      "Episode 450/1000. Epsilon: 0.549. Reward in last 100 episodes: 17.280\n",
      "Episode 500/1000. Epsilon: 0.499. Reward in last 100 episodes: 22.740\n",
      "Episode 550/1000. Epsilon: 0.449. Reward in last 100 episodes: 48.080\n",
      "Episode 600/1000. Epsilon: 0.399. Reward in last 100 episodes: 95.980\n",
      "Episode 650/1000. Epsilon: 0.349. Reward in last 100 episodes: 160.680\n",
      "Episode 700/1000. Epsilon: 0.299. Reward in last 100 episodes: 227.030\n",
      "Episode 750/1000. Epsilon: 0.249. Reward in last 100 episodes: 260.200\n",
      "Episode 800/1000. Epsilon: 0.199. Reward in last 100 episodes: 280.740\n",
      "Episode 850/1000. Epsilon: 0.149. Reward in last 100 episodes: 302.690\n",
      "Episode 900/1000. Epsilon: 0.099. Reward in last 100 episodes: 292.780\n",
      "Episode 950/1000. Epsilon: 0.050. Reward in last 100 episodes: 271.310\n",
      "Episode 1000/1000. Epsilon: 0.050. Reward in last 100 episodes: 251.630\n"
     ]
    }
   ],
   "source": [
    "# Hyperparameters.\n",
    "num_episodes = 1000\n",
    "epsilon = 1.0\n",
    "batch_size = 32\n",
    "discount = 0.99\n",
    "buffer = ReplayBuffer(100000)\n",
    "cur_frame = 0\n",
    "\n",
    "# Start training. Play game once and then train with a batch.\n",
    "last_100_ep_rewards = []\n",
    "for episode in range(num_episodes+1):\n",
    "  state = env.reset()\n",
    "  ep_reward, done = 0, False\n",
    "  while not done:\n",
    "    state_in = tf.expand_dims(state, axis=0)\n",
    "    action = select_epsilon_greedy_action(state_in, epsilon)\n",
    "    next_state, reward, done, info = env.step(action)\n",
    "    ep_reward += reward\n",
    "    # Save to experience replay.\n",
    "    buffer.add(state, action, reward, next_state, done)\n",
    "    state = next_state\n",
    "    cur_frame += 1\n",
    "    # Copy main_nn weights to target_nn.\n",
    "    if cur_frame % 2000 == 0:\n",
    "      target_nn.set_weights(main_nn.get_weights())\n",
    "\n",
    "    # Train neural network.\n",
    "    if len(buffer) >= batch_size:\n",
    "      states, actions, rewards, next_states, dones = buffer.sample(batch_size)\n",
    "      loss = train_step(states, actions, rewards, next_states, dones)\n",
    "  \n",
    "  if episode < 950:\n",
    "    epsilon -= 0.001\n",
    "\n",
    "  if len(last_100_ep_rewards) == 100:\n",
    "    last_100_ep_rewards = last_100_ep_rewards[1:]\n",
    "  last_100_ep_rewards.append(ep_reward)\n",
    "    \n",
    "  if episode % 50 == 0:\n",
    "    print(f'Episode {episode}/{num_episodes}. Epsilon: {epsilon:.3f}. '\n",
    "          f'Reward in last 100 episodes: {np.mean(last_100_ep_rewards):.3f}')\n",
    "env.close()"
   ]
  },
  {
   "cell_type": "code",
   "execution_count": 17,
   "id": "a598f0c2-3a51-4727-a5a4-287cee25bc97",
   "metadata": {},
   "outputs": [],
   "source": [
    "def show_video():\n",
    "  mp4list = glob.glob('resources/videos/cartpoledqn/*.mp4')\n",
    "  if len(mp4list) > 0:\n",
    "    mp4 = mp4list[0]\n",
    "    video = io.open(mp4, 'r+b').read()\n",
    "    encoded = base64.b64encode(video)\n",
    "    ipythondisplay.display(HTML(data='''<video alt=\"test\" autoplay \n",
    "                loop controls style=\"height: 400px;\">\n",
    "                <source src=\"data:video/mp4;base64,{0}\" type=\"video/mp4\" />\n",
    "             </video>'''.format(encoded.decode('ascii'))))\n",
    "  else: \n",
    "    print(\"Video not found\")\n",
    "    \n",
    "\n",
    "def wrap_env(env):\n",
    "  env = Monitor(env, './resources/videos/cartpoledqn', force=True)\n",
    "  return env"
   ]
  },
  {
   "cell_type": "code",
   "execution_count": 18,
   "id": "a13319eb-d79c-4ae0-b992-7b4c8483d4dd",
   "metadata": {},
   "outputs": [
    {
     "name": "stderr",
     "output_type": "stream",
     "text": [
      "2022-01-14 20:17:09.911 Python[40682:1324393] ApplePersistenceIgnoreState: Existing state will not be touched. New state will be written to /var/folders/d8/pjwlqxxx6gsgk0rr17sh7x280000gn/T/org.python.python.savedState\n"
     ]
    },
    {
     "name": "stdout",
     "output_type": "stream",
     "text": [
      "Episode reward was 243.0\n"
     ]
    },
    {
     "data": {
      "text/html": [
       "<video alt=\"test\" autoplay \n",
       "                loop controls style=\"height: 400px;\">\n",
       "                <source src=\"data:video/mp4;base64,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\" type=\"video/mp4\" />\n",
       "             </video>"
      ],
      "text/plain": [
       "<IPython.core.display.HTML object>"
      ]
     },
     "metadata": {},
     "output_type": "display_data"
    }
   ],
   "source": [
    "env = wrap_env(gym.make('CartPole-v1'))\n",
    "state = env.reset()\n",
    "done = False\n",
    "ep_rew = 0\n",
    "while not done:\n",
    "  env.render()\n",
    "  state = tf.expand_dims(state, axis=0)\n",
    "  action = select_epsilon_greedy_action(state, epsilon=0.01)\n",
    "  state, reward, done, info = env.step(action)\n",
    "  ep_rew += reward\n",
    "print('Episode reward was {}'.format(ep_rew))\n",
    "env.close()\n",
    "show_video()"
   ]
  },
  {
   "cell_type": "code",
   "execution_count": null,
   "id": "799e2cc4-2282-42bc-9f50-e261845e09c1",
   "metadata": {},
   "outputs": [],
   "source": []
  }
 ],
 "metadata": {
  "kernelspec": {
   "display_name": "Python 3 (ipykernel)",
   "language": "python",
   "name": "python3"
  },
  "language_info": {
   "codemirror_mode": {
    "name": "ipython",
    "version": 3
   },
   "file_extension": ".py",
   "mimetype": "text/x-python",
   "name": "python",
   "nbconvert_exporter": "python",
   "pygments_lexer": "ipython3",
   "version": "3.8.0"
  }
 },
 "nbformat": 4,
 "nbformat_minor": 5
}
